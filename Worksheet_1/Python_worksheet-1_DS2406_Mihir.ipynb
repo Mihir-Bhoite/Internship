{
 "cells": [
  {
   "cell_type": "markdown",
   "id": "88e17300",
   "metadata": {},
   "source": [
    "# RoboFlip Technologies Python Worksheet-1"
   ]
  },
  {
   "cell_type": "markdown",
   "id": "757e8967",
   "metadata": {},
   "source": [
    "Question -11. Write a python program to find the factorial of a number."
   ]
  },
  {
   "cell_type": "code",
   "execution_count": 32,
   "id": "3ef06386",
   "metadata": {},
   "outputs": [
    {
     "name": "stdout",
     "output_type": "stream",
     "text": [
      "The factorial of 7 is 5040\n"
     ]
    }
   ],
   "source": [
    "def factorial(n):\n",
    "    if n == 0 or n == 1:\n",
    "        return 1\n",
    "    else:\n",
    "        return n * factorial(n-1)\n",
    "\n",
    "\n",
    "number = 7\n",
    "print(f\"The factorial of {number} is\", (factorial(number)))\n"
   ]
  },
  {
   "cell_type": "markdown",
   "id": "6e3f0494",
   "metadata": {},
   "source": [
    "Question -12: Python program to find whether a number is prime or composite"
   ]
  },
  {
   "cell_type": "code",
   "execution_count": 15,
   "id": "3858c483",
   "metadata": {},
   "outputs": [
    {
     "name": "stdout",
     "output_type": "stream",
     "text": [
      "23 is a prime number\n",
      "65 is a composite number\n"
     ]
    }
   ],
   "source": [
    "def is_prime(n):\n",
    "    if n <= 1:\n",
    "        return False\n",
    "    for i in range(2, int(n**0.5) + 1):\n",
    "        if n % i == 0:\n",
    "            return False\n",
    "    return True\n",
    "\n",
    "# Example usage\n",
    "number1 = 23\n",
    "number2 = 65\n",
    "if is_prime(number1):\n",
    "    print(f\"{number1} is a prime number\")\n",
    "else:\n",
    "    print(f\"{number1} is a composite number\")\n",
    "if is_prime(number2):\n",
    "    print(f\"{number2} is a prime number\")\n",
    "else:\n",
    "    print(f\"{number2} is a composite number\")"
   ]
  },
  {
   "cell_type": "markdown",
   "id": "3b759b97",
   "metadata": {},
   "source": [
    "Question 13: Write a python program to check whether a given string is palindrome or not. "
   ]
  },
  {
   "cell_type": "code",
   "execution_count": 26,
   "id": "9e4305dc",
   "metadata": {},
   "outputs": [
    {
     "name": "stdout",
     "output_type": "stream",
     "text": [
      "Yes\n",
      "No\n"
     ]
    }
   ],
   "source": [
    "def isPalindrome(s):\n",
    "    s = s.replace(\" \", \"\").lower()  # Removing spaces and converting to lowercase\n",
    "    return s == s[::-1]\n",
    "\n",
    "# Example usage\n",
    "string = \"Madam\"\n",
    "string1= \"Mihir\"\n",
    "ans = isPalindrome(string)\n",
    "ans1 = isPalindrome(string1)\n",
    "if ans:\n",
    "    print(\"Yes\")\n",
    "else:\n",
    "    print(\"No\")\n",
    "if ans1:\n",
    "    print(\"Yes\")\n",
    "else:\n",
    "    print(\"No\")"
   ]
  },
  {
   "cell_type": "markdown",
   "id": "5b370599",
   "metadata": {},
   "source": [
    "Q14: Python program to get the third side of a right-angled triangle from two given sides"
   ]
  },
  {
   "cell_type": "code",
   "execution_count": 33,
   "id": "19ba6313",
   "metadata": {},
   "outputs": [
    {
     "name": "stdout",
     "output_type": "stream",
     "text": [
      "The hypotenuse of the right-angled triangle is 10.0\n"
     ]
    }
   ],
   "source": [
    "import math\n",
    "\n",
    "def find_third_side(a, b, is_hypotenuse):\n",
    "    if is_hypotenuse:\n",
    "        return math.sqrt(a**2 - b**2)\n",
    "    else:\n",
    "        return math.sqrt(a**2 + b**2)\n",
    "\n",
    "# Example usage\n",
    "side1 = 8\n",
    "side2 = 6\n",
    "hypotenuse = find_third_side(side1, side2, False)\n",
    "print(\"The hypotenuse of the right-angled triangle is\",(hypotenuse))"
   ]
  },
  {
   "cell_type": "markdown",
   "id": "7c11eaa0",
   "metadata": {},
   "source": [
    "Q15: Python program to print the frequency of each of the characters present in a given string"
   ]
  },
  {
   "cell_type": "code",
   "execution_count": 34,
   "id": "51113aa1",
   "metadata": {},
   "outputs": [
    {
     "name": "stdout",
     "output_type": "stream",
     "text": [
      "Character: h, Frequency: 1\n",
      "Character: e, Frequency: 1\n",
      "Character: l, Frequency: 3\n",
      "Character: o, Frequency: 2\n",
      "Character:  , Frequency: 1\n",
      "Character: w, Frequency: 1\n",
      "Character: r, Frequency: 1\n",
      "Character: d, Frequency: 1\n"
     ]
    }
   ],
   "source": [
    "def character_frequency(s):\n",
    "    freq = {}\n",
    "    for char in s:\n",
    "        if char in freq:\n",
    "            freq[char] += 1\n",
    "        else:\n",
    "            freq[char] = 1\n",
    "    return freq\n",
    "# Frequency means to know no. of times that letter occurred in string\n",
    "# Example execution\n",
    "string = \"hello world\"\n",
    "frequency = character_frequency(string)\n",
    "for char, count in frequency.items():\n",
    "    print(f\"Character: {char}, Frequency: {count}\")\n"
   ]
  },
  {
   "cell_type": "code",
   "execution_count": null,
   "id": "e6cef64d",
   "metadata": {},
   "outputs": [],
   "source": []
  }
 ],
 "metadata": {
  "kernelspec": {
   "display_name": "Python 3 (ipykernel)",
   "language": "python",
   "name": "python3"
  },
  "language_info": {
   "codemirror_mode": {
    "name": "ipython",
    "version": 3
   },
   "file_extension": ".py",
   "mimetype": "text/x-python",
   "name": "python",
   "nbconvert_exporter": "python",
   "pygments_lexer": "ipython3",
   "version": "3.11.5"
  }
 },
 "nbformat": 4,
 "nbformat_minor": 5
}

{
 "cells": [
  {
   "cell_type": "markdown",
   "id": "19557e64",
   "metadata": {},
   "source": [
    "# RoboFlip Technologies RegEx Assignment "
   ]
  },
  {
   "cell_type": "markdown",
   "id": "825adbe7",
   "metadata": {},
   "source": [
    "Question 1- Write a Python program to replace all occurrences of a space, comma, or dot with a colon."
   ]
  },
  {
   "cell_type": "code",
   "execution_count": 2,
   "id": "faaa4a90",
   "metadata": {},
   "outputs": [
    {
     "name": "stdout",
     "output_type": "stream",
     "text": [
      "Python:Exercises::PHP:exercises:\n"
     ]
    }
   ],
   "source": [
    "import re\n",
    "\n",
    "def replace_punctuations_with_colon(text):\n",
    "    return re.sub(r'[ ,.]', ':', text)\n",
    "\n",
    "sample_text = 'Python Exercises, PHP exercises.'\n",
    "output = replace_punctuations_with_colon(sample_text)\n",
    "print(output)"
   ]
  },
  {
   "cell_type": "markdown",
   "id": "baac637e",
   "metadata": {},
   "source": [
    "Question 2-  Create a dataframe using the dictionary below and remove everything \n",
    "(commas (,), !, XXXX, ;, etc.) from the columns except words."
   ]
  },
  {
   "cell_type": "code",
   "execution_count": 11,
   "id": "33367cf5",
   "metadata": {},
   "outputs": [
    {
     "name": "stdout",
     "output_type": "stream",
     "text": [
      "            SUMMARY\n",
      "0       hello world\n",
      "1        XXXXX test\n",
      "2  123four five six\n"
     ]
    }
   ],
   "source": [
    "import pandas as pd\n",
    "\n",
    "data = {'SUMMARY': ['hello, world!', 'XXXXX test', '123four, five:; six...']}\n",
    "df = pd.DataFrame(data)\n",
    "\n",
    "def clean_column(text):\n",
    "    return re.sub(r'[^\\w\\s]', '', text)\n",
    "\n",
    "df['SUMMARY'] = df['SUMMARY'].apply(clean_column)\n",
    "print(df)\n"
   ]
  },
  {
   "cell_type": "markdown",
   "id": "2f7aa1e5",
   "metadata": {},
   "source": [
    "Question 3- Create a function in python to find all words that are at least 4 characters long in a string. \n",
    "The use of the re.compile() method is mandatory."
   ]
  },
  {
   "cell_type": "code",
   "execution_count": 10,
   "id": "ef9e94dc",
   "metadata": {},
   "outputs": [
    {
     "name": "stdout",
     "output_type": "stream",
     "text": [
      "['This', 'test', 'string', 'with', 'some', 'long', 'words', 'like', 'Python', 'programming']\n"
     ]
    }
   ],
   "source": [
    "def find_words_with_min_length(text):\n",
    "    regex = re.compile(r'\\b\\w{4,}\\b')\n",
    "    return regex.findall(text)\n",
    "\n",
    "sample_text = \"This is a test string with some long words like Python and programming\"\n",
    "print(find_words_with_min_length(sample_text))\n"
   ]
  },
  {
   "cell_type": "markdown",
   "id": "1037ebdd",
   "metadata": {},
   "source": [
    "Question 4- Create a function in python to find all three, four, and five character words in a string. The use of the re.compile() method is mandatory."
   ]
  },
  {
   "cell_type": "code",
   "execution_count": 12,
   "id": "fda735ab",
   "metadata": {},
   "outputs": [
    {
     "name": "stdout",
     "output_type": "stream",
     "text": [
      "['This', 'test', 'with', 'words']\n"
     ]
    }
   ],
   "source": [
    "def find_words_of_specific_length(text):\n",
    "    regex = re.compile(r'\\b\\w{3,5}\\b')\n",
    "    return regex.findall(text)\n",
    "\n",
    "sample_text = \"This is a test string with words of various lengths.\"\n",
    "print(find_words_of_specific_length(sample_text))"
   ]
  },
  {
   "cell_type": "markdown",
   "id": "db55a0d8",
   "metadata": {},
   "source": [
    "Question - 5 : Create a function in Python to remove the parenthesis in a list of strings. The use of the re.compile() method is mandatory.\n",
    "Sample Text: [\"example (.com)\", \"hr@fliprobo (.com)\", \"github (.com)\", \"Hello (Data Science World)\", \"Data (Scientist)\"]"
   ]
  },
  {
   "cell_type": "code",
   "execution_count": 46,
   "id": "903605ce",
   "metadata": {},
   "outputs": [
    {
     "name": "stdout",
     "output_type": "stream",
     "text": [
      "['example .com', 'hr@fliprobo .com', 'github .com', 'Hello Data Science World', 'Data Scientist']\n"
     ]
    }
   ],
   "source": [
    "def remove_parentheses(text):\n",
    "    pattern = re.compile(r'\\(|\\)')\n",
    "    modified_text = [pattern.sub('', text) for text in text]\n",
    "    return modified_text\n",
    "\n",
    "sample_text = [\"example (.com)\", \"hr@fliprobo (.com)\", \"github (.com)\", \"Hello (Data Science World)\", \"Data (Scientist)\"]\n",
    "print(remove_parentheses(sample_text))"
   ]
  },
  {
   "cell_type": "markdown",
   "id": "c22eee08",
   "metadata": {},
   "source": [
    "Question 6- Write a python program to remove the parenthesis area from the text stored in the text file using Regular Expression.\n",
    "Sample Text: [\"example (.com)\", \"hr@fliprobo (.com)\", \"github (.com)\", \"Hello (Data Science World)\", \"Data (Scientist)\"]\n",
    "Note- Store given sample text in the text file and then to remove the parenthesis area from the text."
   ]
  },
  {
   "cell_type": "code",
   "execution_count": 48,
   "id": "b248621c",
   "metadata": {},
   "outputs": [
    {
     "name": "stdout",
     "output_type": "stream",
     "text": [
      "['example', 'hr@fliprobo', 'github', 'Hello', 'Data']\n"
     ]
    }
   ],
   "source": [
    "def remove_text_in_parentheses(text_list):\n",
    "    regex = re.compile(r'\\s*\\(.*?\\)\\s*')\n",
    "    return [regex.sub('', text) for text in text_list]\n",
    "\n",
    "sample_text = [\"example (.com)\", \"hr@fliprobo (.com)\", \"github (.com)\", \"Hello (Data Science World)\", \"Data (Scientist)\"]\n",
    "print(remove_text_in_parentheses(sample_text))\n"
   ]
  },
  {
   "cell_type": "markdown",
   "id": "5e8e455a",
   "metadata": {},
   "source": [
    "Question 7- Write a regular expression in Python to split a string into uppercase letters.\n",
    "Sample text: “ImportanceOfRegularExpressionsInPython”"
   ]
  },
  {
   "cell_type": "code",
   "execution_count": 49,
   "id": "72959d9f",
   "metadata": {},
   "outputs": [
    {
     "name": "stdout",
     "output_type": "stream",
     "text": [
      "['Importance', 'Of', 'Regular', 'Expressions', 'In', 'Python']\n"
     ]
    }
   ],
   "source": [
    "def split_string_by_uppercase(text):\n",
    "    return re.findall(r'[A-Z][^A-Z]*', text)\n",
    "\n",
    "sample_text = \"ImportanceOfRegularExpressionsInPython\"\n",
    "print(split_string_by_uppercase(sample_text))"
   ]
  },
  {
   "cell_type": "markdown",
   "id": "7c4c9da9",
   "metadata": {},
   "source": [
    "Question 8- Create a function in python to insert spaces between words starting with numbers.\n",
    "Sample Text: “RegularExpression1IsAn2ImportantTopic3InPython"
   ]
  },
  {
   "cell_type": "code",
   "execution_count": 50,
   "id": "79a2489f",
   "metadata": {},
   "outputs": [
    {
     "name": "stdout",
     "output_type": "stream",
     "text": [
      "RegularExpression 1IsAn 2ImportantTopic 3InPython\n"
     ]
    }
   ],
   "source": [
    "def insert_spaces_before_numbers(text):\n",
    "    return re.sub(r'(\\d)', r' \\1', text)\n",
    "\n",
    "sample_text = \"RegularExpression1IsAn2ImportantTopic3InPython\"\n",
    "print(insert_spaces_before_numbers(sample_text))  \n"
   ]
  },
  {
   "cell_type": "markdown",
   "id": "91d644ef",
   "metadata": {},
   "source": [
    "Question 9- Create a function in python to insert spaces between words starting with capital letters or with numbers.\n",
    "Sample Text: “RegularExpression1IsAn2ImportantTopic3InPython\"\n",
    "\n"
   ]
  },
  {
   "cell_type": "code",
   "execution_count": 51,
   "id": "2e54451e",
   "metadata": {},
   "outputs": [
    {
     "name": "stdout",
     "output_type": "stream",
     "text": [
      "Regular Expression 1 Is An 2 Important Topic 3 In Python\n"
     ]
    }
   ],
   "source": [
    "def insert_spaces_before_capitals_and_numbers(text):\n",
    "    return re.sub(r'(?<!^)(?=[A-Z0-9])', ' ', text)\n",
    "\n",
    "sample_text = \"RegularExpression1IsAn2ImportantTopic3InPython\"\n",
    "print(insert_spaces_before_capitals_and_numbers(sample_text))  \n"
   ]
  },
  {
   "cell_type": "markdown",
   "id": "f8207c4d",
   "metadata": {},
   "source": [
    "Question 10- Use the github link below to read the data and create a dataframe. After creating the dataframe extract the first 6 letters of each country and store in the dataframe under a new column called first_five_letters.\n",
    "\n",
    "Github Link-  https://raw.githubusercontent.com/dsrscientist/DSData/master/happiness_score_dataset.csv\n"
   ]
  },
  {
   "cell_type": "code",
   "execution_count": 52,
   "id": "a9aab198",
   "metadata": {},
   "outputs": [
    {
     "name": "stdout",
     "output_type": "stream",
     "text": [
      "       Country first_six_letters\n",
      "0  Switzerland            Switze\n",
      "1      Iceland            Icelan\n",
      "2      Denmark            Denmar\n",
      "3       Norway            Norway\n",
      "4       Canada            Canada\n"
     ]
    }
   ],
   "source": [
    "url = \"https://raw.githubusercontent.com/dsrscientist/DSData/master/happiness_score_dataset.csv\"\n",
    "df = pd.read_csv(url)\n",
    "\n",
    "df['first_six_letters'] = df['Country'].str[:6]\n",
    "print(df[['Country', 'first_six_letters']].head())\n"
   ]
  },
  {
   "cell_type": "markdown",
   "id": "a7a4002c",
   "metadata": {},
   "source": [
    "Question 11- Write a Python program to match a string that contains only upper and lowercase letters, numbers, and underscores."
   ]
  },
  {
   "cell_type": "code",
   "execution_count": 55,
   "id": "23306727",
   "metadata": {},
   "outputs": [
    {
     "name": "stdout",
     "output_type": "stream",
     "text": [
      "True\n"
     ]
    }
   ],
   "source": [
    "def is_alphanumeric_with_underscores(text):\n",
    "    regex = re.compile(r'^\\w+$')\n",
    "    return bool(regex.match(text))\n",
    "\n",
    "sample_text = \"Assignment_DS2406\"\n",
    "print(is_alphanumeric_with_underscores(sample_text))\n"
   ]
  },
  {
   "cell_type": "markdown",
   "id": "6dfdfe99",
   "metadata": {},
   "source": [
    "Question 12- Write a Python program where a string will start with a specific number. "
   ]
  },
  {
   "cell_type": "code",
   "execution_count": 58,
   "id": "a1a4da14",
   "metadata": {},
   "outputs": [
    {
     "name": "stdout",
     "output_type": "stream",
     "text": [
      "True\n"
     ]
    }
   ],
   "source": [
    "def string_starts_with_number(text, number):\n",
    "    regex = re.compile(r'^' + re.escape(number))\n",
    "    return bool(regex.match(text))\n",
    "\n",
    "sample_text = \"123abc\"\n",
    "number = \"123\"\n",
    "print(string_starts_with_number(sample_text, number))\n"
   ]
  },
  {
   "cell_type": "markdown",
   "id": "c0d347e1",
   "metadata": {},
   "source": [
    "Question 13- Write a Python program to remove leading zeros from an IP address"
   ]
  },
  {
   "cell_type": "code",
   "execution_count": 59,
   "id": "a552f2a3",
   "metadata": {},
   "outputs": [
    {
     "name": "stdout",
     "output_type": "stream",
     "text": [
      "192.168.1.1\n"
     ]
    }
   ],
   "source": [
    "def remove_zeros_from_ip(ip):\n",
    "    regex = re.compile(r'\\b0+(\\d)')\n",
    "    return regex.sub(r'\\1', ip)\n",
    "\n",
    "sample_ip = \"192.168.001.001\"\n",
    "print(remove_zeros_from_ip(sample_ip)) "
   ]
  },
  {
   "cell_type": "markdown",
   "id": "dce56980",
   "metadata": {},
   "source": [
    "Question 14-  Write a regular expression in python to match a date string in the form of Month name followed by day number and year stored in a text file.\n",
    "Sample text :  ' On August 15th 1947 that India was declared independent from British colonialism, and the reins of control were handed over to the leaders of the Country ’"
   ]
  },
  {
   "cell_type": "code",
   "execution_count": 61,
   "id": "8ac0f2a4",
   "metadata": {},
   "outputs": [
    {
     "name": "stdout",
     "output_type": "stream",
     "text": [
      "['August 15th 1947']\n"
     ]
    }
   ],
   "source": [
    "sample_text = \"On August 15th 1947 that India was declared independent from British colonialism, and the reins of control were handed over to the leaders of the Country.\"\n",
    "with open('sample_date.txt', 'w') as file:\n",
    "    file.write(sample_text)\n",
    "def extract_date_from_file(file_path):\n",
    "    regex = re.compile(r'\\b[A-Za-z]+ \\d{1,2}(?:st|nd|rd|th)? \\d{4}\\b')\n",
    "    with open(file_path, 'r') as file:\n",
    "        text = file.read()\n",
    "    return regex.findall(text)\n",
    "\n",
    "file_path = 'sample_date.txt'\n",
    "print(extract_date_from_file(file_path))\n"
   ]
  },
  {
   "cell_type": "markdown",
   "id": "4bff87d6",
   "metadata": {},
   "source": [
    "Question 15- Write a Python program to search some literals strings in a string. \n",
    "Sample text : 'The quick brown fox jumps over the lazy dog.'\n",
    "Searched words : 'fox', 'dog', 'horse'."
   ]
  },
  {
   "cell_type": "code",
   "execution_count": 62,
   "id": "4ba423d5",
   "metadata": {},
   "outputs": [
    {
     "name": "stdout",
     "output_type": "stream",
     "text": [
      "{'fox': True, 'dog': True, 'horse': False}\n"
     ]
    }
   ],
   "source": [
    "def search_for_words(text, words):\n",
    "    return {word: bool(re.search(re.escape(word), text)) for word in words}\n",
    "\n",
    "sample_text = 'The quick brown fox jumps over the lazy dog.'\n",
    "searched_words = ['fox', 'dog', 'horse']\n",
    "print(search_for_words(sample_text, searched_words)) "
   ]
  },
  {
   "cell_type": "markdown",
   "id": "f9c2f972",
   "metadata": {},
   "source": [
    "Question 16- Write a Python program to search a literals string in a string and also find the location within the original string where the pattern occurs\n",
    "Sample text : 'The quick brown fox jumps over the lazy dog.'\n"
   ]
  },
  {
   "cell_type": "code",
   "execution_count": 88,
   "id": "9e32031d",
   "metadata": {},
   "outputs": [
    {
     "name": "stdout",
     "output_type": "stream",
     "text": [
      "Found \"fox\" at (16, 19) in a given sample text\n"
     ]
    }
   ],
   "source": [
    "def find_word_position(text, word):\n",
    "    match = re.search(re.escape(word), text)\n",
    "    if match:\n",
    "        return match.start(), match.end()\n",
    "    return None\n",
    "\n",
    "sample_text = 'The quick brown fox jumps over the lazy dog.'\n",
    "searched_word = 'fox'\n",
    "print('Found \"fox\" at',(find_word_position(sample_text, searched_word)), 'in a given sample text')"
   ]
  },
  {
   "cell_type": "markdown",
   "id": "7b28a60f",
   "metadata": {},
   "source": [
    "Question 17- Write a Python program to find the substrings within a string.\n",
    "Sample text : 'Python exercises, PHP exercises, C# exercises'\n",
    "Pattern : 'exercises'."
   ]
  },
  {
   "cell_type": "code",
   "execution_count": 93,
   "id": "a991c493",
   "metadata": {},
   "outputs": [
    {
     "name": "stdout",
     "output_type": "stream",
     "text": [
      "Found \"exercises\" at position [(7, 16), (22, 31), (36, 45)] in a sample text\n"
     ]
    }
   ],
   "source": [
    "def find_substring_positions(text, substring):\n",
    "    return [(match.start(),match.end()) for match in re.finditer(re.escape(substring), text)]\n",
    "\n",
    "sample_text = 'Python exercises, PHP exercises, C# exercises'\n",
    "pattern = 'exercises'\n",
    "print('Found \"exercises\" at position',(find_substring_positions(sample_text, pattern)), 'in a sample text') "
   ]
  },
  {
   "cell_type": "markdown",
   "id": "b2f79d41",
   "metadata": {},
   "source": [
    "Question 18- Write a Python program to find the occurrence and position of the substrings within a string."
   ]
  },
  {
   "cell_type": "code",
   "execution_count": 92,
   "id": "d6afdaef",
   "metadata": {},
   "outputs": [
    {
     "name": "stdout",
     "output_type": "stream",
     "text": [
      "Found \"exercises\" at [(7, 16), (22, 31), (36, 45)] in a sample text\n"
     ]
    }
   ],
   "source": [
    "def find_substring_occurrences_and_positions(text, substring):\n",
    "    return [(match.start(), match.end()) for match in re.finditer(re.escape(substring), text)]\n",
    "\n",
    "sample_text = 'Python exercises, PHP exercises, C# exercises'\n",
    "substring = 'exercises'\n",
    "print('Found \"exercises\" at',(find_substring_positions(sample_text, pattern)), 'in a sample text')"
   ]
  },
  {
   "cell_type": "markdown",
   "id": "7d001f18",
   "metadata": {},
   "source": [
    "Question 19- Write a Python program to convert a date of yyyy-mm-dd format to dd-mm-yyyy format."
   ]
  },
  {
   "cell_type": "code",
   "execution_count": 94,
   "id": "abd1ee0c",
   "metadata": {},
   "outputs": [
    {
     "name": "stdout",
     "output_type": "stream",
     "text": [
      "06-07-2023\n"
     ]
    }
   ],
   "source": [
    "def convert_date_format(date):\n",
    "    regex = re.compile(r'(\\d{4})-(\\d{2})-(\\d{2})')\n",
    "    return regex.sub(r'\\3-\\2-\\1', date)\n",
    "\n",
    "sample_date = \"2023-07-06\"\n",
    "print(convert_date_format(sample_date))"
   ]
  },
  {
   "cell_type": "markdown",
   "id": "9ae6ae5b",
   "metadata": {},
   "source": [
    "Question 20- Create a function in python to find all decimal numbers with a precision of 1 or 2 in a string. The use of the re.compile() method is mandatory.\n",
    "Sample Text: \"01.12 0132.123 2.31875 145.8 3.01 27.25 0.25\"\n"
   ]
  },
  {
   "cell_type": "code",
   "execution_count": 96,
   "id": "482078d2",
   "metadata": {},
   "outputs": [
    {
     "name": "stdout",
     "output_type": "stream",
     "text": [
      "['01.12', '145.8', '3.01', '27.25', '0.25']\n"
     ]
    }
   ],
   "source": [
    "def find_decimal_numbers(text):\n",
    "    pattern = re.compile(r'\\b\\d+\\.\\d{1,2}\\b')\n",
    "    return pattern.findall(text)\n",
    "\n",
    "sample_text = \"01.12 0132.123 2.31875 145.8 3.01 27.25 0.25\"\n",
    "result = find_decimal_numbers(sample_text)\n",
    "print(result)\n"
   ]
  },
  {
   "cell_type": "markdown",
   "id": "d50f04de",
   "metadata": {},
   "source": [
    "Question 21- Write a Python program to separate and print the numbers and their position of a given string."
   ]
  },
  {
   "cell_type": "code",
   "execution_count": 102,
   "id": "690b05ec",
   "metadata": {},
   "outputs": [
    {
     "name": "stdout",
     "output_type": "stream",
     "text": [
      "3\n",
      "String position: 10\n",
      "42\n",
      "String position: 23\n"
     ]
    }
   ],
   "source": [
    "text = \"There are 3 apples and 42 oranges.\"\n",
    "\n",
    "for m in re.finditer(\"\\d+\", text):\n",
    "    print(m.group(0))\n",
    "    print(\"String position:\", m.start())"
   ]
  },
  {
   "cell_type": "markdown",
   "id": "972a5a29",
   "metadata": {},
   "source": [
    "Question 22- Write a regular expression in python program to extract maximum/largest numeric value from a string."
   ]
  },
  {
   "cell_type": "code",
   "execution_count": 103,
   "id": "4b883a48",
   "metadata": {},
   "outputs": [
    {
     "name": "stdout",
     "output_type": "stream",
     "text": [
      "950\n"
     ]
    }
   ],
   "source": [
    "def extract_max_value(text):\n",
    "    pattern = re.compile(r'\\d+')\n",
    "    numbers = [int(num) for num in pattern.findall(text)]\n",
    "    return max(numbers)\n",
    "\n",
    "sample_text = 'My marks in each semester are: 947, 896, 926, 524, 734, 950, 642'\n",
    "result = extract_max_value(sample_text)\n",
    "print(result)\n"
   ]
  },
  {
   "cell_type": "markdown",
   "id": "4bd9fbd3",
   "metadata": {},
   "source": [
    "Question 23- Create a function in python to insert spaces between words starting with capital letters.\n",
    "Sample Text: “RegularExpressionIsAnImportantTopicInPython\"\n"
   ]
  },
  {
   "cell_type": "code",
   "execution_count": 106,
   "id": "16b04fa4",
   "metadata": {},
   "outputs": [
    {
     "name": "stdout",
     "output_type": "stream",
     "text": [
      "Regular Expression Is An Important Topic In Python\n"
     ]
    }
   ],
   "source": [
    "def insert_spaces(text):\n",
    "    regex = re.compile(r'(?<!^)(?=[A-Z])')\n",
    "    return regex.sub(' ', text)\n",
    "\n",
    "sample_text = \"RegularExpressionIsAnImportantTopicInPython\"\n",
    "result = insert_spaces(sample_text)\n",
    "print(result)"
   ]
  },
  {
   "cell_type": "markdown",
   "id": "9dd96f67",
   "metadata": {},
   "source": [
    "Question 24- Python regex to find sequences of one upper case letter followed by lower case letters."
   ]
  },
  {
   "cell_type": "code",
   "execution_count": 107,
   "id": "275ed00e",
   "metadata": {},
   "outputs": [
    {
     "name": "stdout",
     "output_type": "stream",
     "text": [
      "['Find', 'Uppercase', 'Sequences', 'This', 'String']\n"
     ]
    }
   ],
   "source": [
    "def find_uppercase_sequences(text):\n",
    "    pattern = re.compile(r'\\b[A-Z][a-z]*\\b')\n",
    "    return pattern.findall(text)\n",
    "\n",
    "sample_text = \"Find Uppercase Sequences in This String.\"\n",
    "result = find_uppercase_sequences(sample_text)\n",
    "print(result)\n"
   ]
  },
  {
   "cell_type": "markdown",
   "id": "c1b2a0ed",
   "metadata": {},
   "source": [
    "Question 25- Write a Python program to remove continuous duplicate words from Sentence using Regular Expression.\n",
    "Sample Text: \"Hello hello world world\""
   ]
  },
  {
   "cell_type": "code",
   "execution_count": 108,
   "id": "80d0bce2",
   "metadata": {},
   "outputs": [
    {
     "name": "stdout",
     "output_type": "stream",
     "text": [
      "Hello world\n"
     ]
    }
   ],
   "source": [
    "def remove_duplicate_words(text):\n",
    "    pattern = re.compile(r'\\b(\\w+)\\s+\\1\\b', re.IGNORECASE)\n",
    "    return pattern.sub(r'\\1', text)\n",
    "\n",
    "sample_text = \"Hello hello world world\"\n",
    "result = remove_duplicate_words(sample_text)\n",
    "print(result)\n"
   ]
  },
  {
   "cell_type": "markdown",
   "id": "d64850e9",
   "metadata": {},
   "source": [
    "Question 26-  Write a python program using RegEx to accept string ending with alphanumeric character."
   ]
  },
  {
   "cell_type": "code",
   "execution_count": 109,
   "id": "1fdd9ca3",
   "metadata": {},
   "outputs": [
    {
     "name": "stdout",
     "output_type": "stream",
     "text": [
      "True\n"
     ]
    }
   ],
   "source": [
    "def ends_with_alphanumeric(text):\n",
    "    pattern = re.compile(r'\\w$')\n",
    "    return bool(pattern.search(text))\n",
    "\n",
    "sample_text = \"This is a sample text1\"\n",
    "result = ends_with_alphanumeric(sample_text)\n",
    "print(result)\n"
   ]
  },
  {
   "cell_type": "markdown",
   "id": "297d56e7",
   "metadata": {},
   "source": [
    "Question 27 - Write a python program using RegEx to extract the hashtags.\n",
    "Sample Text:  \"\"\"RT @kapil_kausik: #Doltiwal I mean #xyzabc is \"hurt\" by #Demonetization as the same has rendered USELESS <ed><U+00A0><U+00BD><ed><U+00B1><U+0089> \"acquired funds\" No wo\"\"\""
   ]
  },
  {
   "cell_type": "code",
   "execution_count": 110,
   "id": "9e45e8c9",
   "metadata": {},
   "outputs": [
    {
     "name": "stdout",
     "output_type": "stream",
     "text": [
      "['#Doltiwal', '#xyzabc', '#Demonetization']\n"
     ]
    }
   ],
   "source": [
    "def extract_hashtags(text):\n",
    "    pattern = re.compile(r'#\\w+')\n",
    "    return pattern.findall(text)\n",
    "\n",
    "sample_text = \"\"\"RT @kapil_kausik: #Doltiwal I mean #xyzabc is \"hurt\" by #Demonetization as the same has rendered USELESS <ed><U+00A0><U+00BD><ed><U+00B1><U+0089> \"acquired funds\" No wo\"\"\"\n",
    "result = extract_hashtags(sample_text)\n",
    "print(result)\n"
   ]
  },
  {
   "cell_type": "markdown",
   "id": "b2417a41",
   "metadata": {},
   "source": [
    "Question 28- Write a python program using RegEx to remove <U+..> like symbols\n",
    "Check the below sample text, there are strange symbols something of the sort <U+..> all over the place. You need to come up with a general Regex expression that will cover all such symbols."
   ]
  },
  {
   "cell_type": "code",
   "execution_count": 111,
   "id": "a22aab5c",
   "metadata": {},
   "outputs": [
    {
     "name": "stdout",
     "output_type": "stream",
     "text": [
      "@Jags123456 Bharat band on 28??<ed><ed>Those who  are protesting #demonetization  are all different party leaders\n"
     ]
    }
   ],
   "source": [
    "def remove_unicode_symbols(text):\n",
    "    pattern = re.compile(r'<U\\+\\w+>')\n",
    "    return pattern.sub('', text)\n",
    "\n",
    "sample_text = \"@Jags123456 Bharat band on 28??<ed><U+00A0><U+00BD><ed><U+00B8><U+0082>Those who  are protesting #demonetization  are all different party leaders\"\n",
    "result = remove_unicode_symbols(sample_text)\n",
    "print(result)\n"
   ]
  },
  {
   "cell_type": "markdown",
   "id": "b87a0b80",
   "metadata": {},
   "source": [
    "Question 29- Write a python program to extract dates from the text stored in the text file.\n",
    "Sample Text: Ron was born on 12-09-1992 and he was admitted to school 15-12-1999."
   ]
  },
  {
   "cell_type": "code",
   "execution_count": 115,
   "id": "bd86689c",
   "metadata": {},
   "outputs": [
    {
     "name": "stdout",
     "output_type": "stream",
     "text": [
      "['12-09-1992', '15-12-1999']\n"
     ]
    }
   ],
   "source": [
    "\n",
    "def extract_dates(filename):\n",
    "    with open(filename, 'r') as file:\n",
    "        text = file.read()\n",
    "    pattern = re.compile(r'\\d{2}-\\d{2}-\\d{4}')\n",
    "    return pattern.findall(text)\n",
    "\n",
    "# Sample file content\n",
    "sample_text = \"Ron was born on 12-09-1992 and he was admitted to school 15-12-1999.\"\n",
    "with open('sample.txt', 'w') as file:\n",
    "    file.write(sample_text)\n",
    "\n",
    "result = extract_dates('sample.txt')\n",
    "print(result)\n"
   ]
  },
  {
   "cell_type": "markdown",
   "id": "6d678c34",
   "metadata": {},
   "source": [
    "Question 30- Create a function in python to remove all words from a string of length between 2 and 4.\n",
    "The use of the re.compile() method is mandatory.\n",
    "Sample Text: \"The following example creates an ArrayList with a capacity of 50 elements. 4 elements are then added to the ArrayList and the ArrayList is trimmed accordingly.\""
   ]
  },
  {
   "cell_type": "code",
   "execution_count": 116,
   "id": "869dafc9",
   "metadata": {},
   "outputs": [
    {
     "name": "stdout",
     "output_type": "stream",
     "text": [
      "following example creates  ArrayList  a capacity   elements. 4 elements   added   ArrayList   ArrayList  trimmed accordingly.\n"
     ]
    }
   ],
   "source": [
    "def remove_short_words(text):\n",
    "    pattern = re.compile(r'\\b\\w{2,4}\\b')\n",
    "    return pattern.sub('', text).strip()\n",
    "\n",
    "sample_text = \"The following example creates an ArrayList with a capacity of 50 elements. 4 elements are then added to the ArrayList and the ArrayList is trimmed accordingly.\"\n",
    "result = remove_short_words(sample_text)\n",
    "print(result)\n"
   ]
  },
  {
   "cell_type": "code",
   "execution_count": null,
   "id": "9cffef0c",
   "metadata": {},
   "outputs": [],
   "source": []
  }
 ],
 "metadata": {
  "kernelspec": {
   "display_name": "Python 3 (ipykernel)",
   "language": "python",
   "name": "python3"
  },
  "language_info": {
   "codemirror_mode": {
    "name": "ipython",
    "version": 3
   },
   "file_extension": ".py",
   "mimetype": "text/x-python",
   "name": "python",
   "nbconvert_exporter": "python",
   "pygments_lexer": "ipython3",
   "version": "3.11.5"
  }
 },
 "nbformat": 4,
 "nbformat_minor": 5
}
